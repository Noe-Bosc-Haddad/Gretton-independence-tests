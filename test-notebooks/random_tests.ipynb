{
 "cells": [
  {
   "cell_type": "code",
   "execution_count": null,
   "metadata": {},
   "outputs": [],
   "source": [
    "# test of the best method in term of time to generate the matrices\n",
    "import time\n",
    "import matplotlib.pyplot as plt\n",
    "import numpy as np\n",
    "\n",
    "def map_projection_op(i:int,j:int,n:int)-> float:\n",
    "    \"\"\"This function gives the value of Projector operator matrix coefficients\n",
    "    Args:\n",
    "        i : line number\n",
    "        j : row number\n",
    "        n : number of samples\n",
    "    Returns:\n",
    "        P_ij\n",
    "    \"\"\"\n",
    "    if i==j:\n",
    "        return 1-1/n\n",
    "    else:\n",
    "        return -1/n \n",
    "m = 1\n",
    "time_vectorize = np.zeros(m)\n",
    "time_identity = np.zeros(m)\n",
    "list_n = np.zeros(m)\n",
    "for k in range(m):\n",
    "    n = int(10**(k/10))\n",
    "    list_n[k] = n \n",
    "\n",
    "    start_time_vector = time.time()\n",
    "    P = np.array([[(1-1/n if  i==j else -1/n for i in range(n))] for j in range(n)])\n",
    "    time_vectorize[k] = time.time() - start_time_vector\n",
    "    \n",
    "    start_time_identity = time.time()\n",
    "    map = lambda t:t-1/n\n",
    "    P_id = map(np.identity(n))\n",
    "    time_identity[k] = time.time() - start_time_vector\n",
    "\n",
    "plt.plot(list_n,time_vectorize,color = \"green\",label= \"time_vectorize\")\n",
    "plt.plot(list_n,time_identity,color = \"blue\",label=\"time_identity\")\n",
    "plt.legend()\n",
    "plt.show()\n"
   ]
  },
  {
   "cell_type": "code",
   "execution_count": 34,
   "metadata": {},
   "outputs": [
    {
     "name": "stdout",
     "output_type": "stream",
     "text": [
      "5.389025383016144\n"
     ]
    }
   ],
   "source": [
    "import numpy as np\n",
    "\n",
    "array_test = [[4,3],[0,3]]\n",
    "print(np.linalg.norm(array_test,2))\n"
   ]
  },
  {
   "cell_type": "code",
   "execution_count": 74,
   "metadata": {},
   "outputs": [
    {
     "data": {
      "text/plain": [
       "array([[ 0.5, -0.5],\n",
       "       [-0.5,  0.5]])"
      ]
     },
     "execution_count": 74,
     "metadata": {},
     "output_type": "execute_result"
    }
   ],
   "source": [
    "P = np.array([list(1-1/n if  i==j else -1/n for i in range(n)) for j in range(n)])\n",
    "P"
   ]
  }
 ],
 "metadata": {
  "kernelspec": {
   "display_name": "Python 3",
   "language": "python",
   "name": "python3"
  },
  "language_info": {
   "codemirror_mode": {
    "name": "ipython",
    "version": 3
   },
   "file_extension": ".py",
   "mimetype": "text/x-python",
   "name": "python",
   "nbconvert_exporter": "python",
   "pygments_lexer": "ipython3",
   "version": "3.11.6"
  }
 },
 "nbformat": 4,
 "nbformat_minor": 2
}
