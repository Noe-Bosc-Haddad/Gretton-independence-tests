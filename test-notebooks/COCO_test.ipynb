{
 "cells": [
  {
   "cell_type": "markdown",
   "metadata": {},
   "source": [
    "# COCO implementation test\n",
    "\n",
    "This notebook is an implementation of the constrained covariance from [Kernel Constrained Covariance for Dependence Measurement, A.Gretton et al.,2005](https://proceedings.mlr.press/r5/gretton05a/gretton05a.pdf)"
   ]
  },
  {
   "cell_type": "markdown",
   "metadata": {},
   "source": [
    "### Generating some random variables"
   ]
  },
  {
   "cell_type": "code",
   "execution_count": 1,
   "metadata": {},
   "outputs": [],
   "source": [
    "import numpy as np"
   ]
  },
  {
   "cell_type": "code",
   "execution_count": 2,
   "metadata": {},
   "outputs": [],
   "source": [
    "def X(n:int=None,cov: np.array=np.identity(5),mean: np.array = np.zeros(5))->np.array:\n",
    "    \"\"\"Args:\n",
    "    n,int: number of samples by default n=None ie a single sample\n",
    "    cov,np.array: covariance matrix by default cov=np.identity(3)\n",
    "    mean: mean value vector by default mean=np.zeros(3)\n",
    "\n",
    "    returns n samples of the \n",
    "    \"\"\"\n",
    "    return np.random.multivariate_normal(mean,cov,n)"
   ]
  },
  {
   "cell_type": "code",
   "execution_count": 3,
   "metadata": {},
   "outputs": [
    {
     "name": "stdout",
     "output_type": "stream",
     "text": [
      "[ 0.77924781 -0.80294753  0.55135109  1.48469677  1.74183806]\n"
     ]
    }
   ],
   "source": [
    "print(X())"
   ]
  },
  {
   "cell_type": "code",
   "execution_count": null,
   "metadata": {},
   "outputs": [],
   "source": []
  },
  {
   "cell_type": "markdown",
   "metadata": {},
   "source": [
    "### Implementing COCO\n",
    "\n",
    "We know from (2.3) in the article that: $$COCO_{emp}(z,F,G)=\\frac{1}{n}\\sqrt{{\\lVert \\bar{K}^j\\bar{K}^g \\rVert}_2}$$\n",
    "\n",
    "With $\\bar{K}^f$ the matrix obtained via the projection $ \\bar{K}^f  =  PK^fP$ with the projection operator $ P_{ij} = {\\delta}_{ij}  - \\frac{1}{n}$ and Gram matrix ${K^{f}}_{ij} =k_f(x_i,x_j)$. $\\; \\bar{K}^g$ is defined analogously."
   ]
  },
  {
   "cell_type": "code",
   "execution_count": 4,
   "metadata": {},
   "outputs": [],
   "source": [
    "def map_projection_op(i:int,j:int,n:int)-> float:\n",
    "    \"\"\"This function gives the value of Projector operator matrix coefficients\n",
    "    Args:\n",
    "        i : line number\n",
    "        j : row number\n",
    "        n : number of samples\n",
    "    Returns:\n",
    "        P_ij\n",
    "    \"\"\"\n",
    "    if i==j:\n",
    "        return 1-1/n\n",
    "    else:\n",
    "        return -1/n \n",
    "    \n",
    "def map_kernel_gram(i:int,j:int,x:np.array,k:callable) -> float:\n",
    "    \"\"\"This function gives the value of the Gram matrix coefficients\n",
    "    \n",
    "    Args:\n",
    "        i : line number\n",
    "        j : row number\n",
    "        x : samples vector\n",
    "        k : kernel\n",
    "    Returns:\n",
    "        K_ij\n",
    "    \"\"\"\n",
    "    return k(x[i],x[j])\n",
    "\n",
    "\n",
    "def COCO(Kf:callable,Kg:callable,x:np.array,y:np.array)->float:\n",
    "    \"\"\"This function computes the constrained covariance for two kernels and some samples\n",
    "    \n",
    "    Args:\n",
    "        Kf : first kernel\n",
    "        Kg : second kernel\n",
    "        x : samples from F\n",
    "        y : samples from G\n",
    "    Returns:\n",
    "        COCO_emp\n",
    "    \"\"\"\n",
    "    n= len(x)\n",
    "    Kf_gram = np.array([list( map_kernel_gram(i,j,x,Kf) for i in range(n)) for j in range(n)])\n",
    "    Kg_gram = np.array([list( map_kernel_gram(i,j,y,Kg) for i in range(n)) for j in range(n)])\n",
    "    P = np.array([list( map_projection_op(i,j,n) for i in range(n)) for j in range(n)])\n",
    "    Kf_bar = np.matmul(P,np.matmul(Kf_gram,P))\n",
    "    Kg_bar = np.matmul(P,np.matmul(Kg_gram,P))\n",
    "\n",
    "    return np.sqrt(np.linalg.norm(np.matmul(Kf_bar,Kg_bar),2))/n\n",
    "    "
   ]
  },
  {
   "cell_type": "markdown",
   "metadata": {},
   "source": [
    "### Test on some Kernels\n",
    "Here we define some kernels and perform some test using COCO on samples from the variables previously defined"
   ]
  },
  {
   "cell_type": "code",
   "execution_count": 5,
   "metadata": {},
   "outputs": [],
   "source": [
    "\n",
    "def K_laplacian(x:np.array,y:np.array)->float:\n",
    "    \"\"\"This function returns the evaluation of the laplacian kernel on x and y\n",
    "    Args:\n",
    "        x : random variable vector\n",
    "        y : random variable vector\n",
    "    Returns:\n",
    "        k(x,y)\n",
    "        \n",
    "    \"\"\"\n",
    "    factor = 1\n",
    "    return np.exp(-factor*np.linalg.norm(x-y,1))\n",
    "\n",
    "def K_gaussian(x:np.array,y:np.array)->float:\n",
    "    \"\"\"This function returns the evaluation of the gaussian kernel on x and y\n",
    "    \n",
    "    Args:\n",
    "        x : random variable vector\n",
    "        y : random variable vector\n",
    "    Returns:\n",
    "        k(x,y)\n",
    "    \"\"\"\n",
    "    factor = 1\n",
    "    return np.exp(-factor*np.linalg.norm(x-y,2))\n",
    "    \n"
   ]
  },
  {
   "cell_type": "code",
   "execution_count": 6,
   "metadata": {},
   "outputs": [
    {
     "data": {
      "text/plain": [
       "0.11830221164341762"
      ]
     },
     "execution_count": 6,
     "metadata": {},
     "output_type": "execute_result"
    }
   ],
   "source": [
    "Kf = K_gaussian\n",
    "Kg = K_gaussian\n",
    "x = X(10)\n",
    "y = X(10)\n",
    "COCO(Kf,Kg,x,y)"
   ]
  },
  {
   "cell_type": "code",
   "execution_count": 8,
   "metadata": {},
   "outputs": [],
   "source": [
    "import matplotlib.pyplot as plt\n",
    "a= 0.5\n",
    "res_indep = np.empty(491)\n",
    "res_dep = np.empty(491)\n",
    "\n",
    "for i in range(10,501):\n",
    "    x = X(i)\n",
    "    y = X(i)\n",
    "    res_indep[i-10] = COCO(Kf,Kg,x,y)\n",
    "    x2 = X(i)\n",
    "    y2 = a*x2 +(1-a)*X(i)\n",
    "    res_dep[i-10] = COCO(Kf,Kg,x2,y2)\n",
    "\n",
    "\n",
    "plt.plot(res_indep,color = \"blue\", label =\"var_gauss_indep\")\n",
    "plt.plot(res_indep,color = \"black\", label =\"var_gauss_dep_a={}\".format(a))\n",
    "plt.legend()\n",
    "plt.show()\n"
   ]
  }
 ],
 "metadata": {
  "kernelspec": {
   "display_name": "Python 3",
   "language": "python",
   "name": "python3"
  },
  "language_info": {
   "codemirror_mode": {
    "name": "ipython",
    "version": 3
   },
   "file_extension": ".py",
   "mimetype": "text/x-python",
   "name": "python",
   "nbconvert_exporter": "python",
   "pygments_lexer": "ipython3",
   "version": "3.11.6"
  }
 },
 "nbformat": 4,
 "nbformat_minor": 2
}
