{
 "cells": [
  {
   "cell_type": "markdown",
   "metadata": {},
   "source": [
    "# COCO implementation test\n",
    "\n",
    "This notebook is an implementation of the constrained covariance from [Kernel Constrained Covariance for Dependence Measurement, A.Gretton et al.,2005](https://proceedings.mlr.press/r5/gretton05a/gretton05a.pdf)"
   ]
  },
  {
   "cell_type": "markdown",
   "metadata": {},
   "source": [
    "### Generating some random variables"
   ]
  },
  {
   "cell_type": "code",
   "execution_count": 1,
   "metadata": {},
   "outputs": [],
   "source": [
    "import numpy as np"
   ]
  },
  {
   "cell_type": "code",
   "execution_count": 33,
   "metadata": {},
   "outputs": [],
   "source": [
    "def X(n:int=None,cov: np.array=np.identity(3),mean: np.array = np.zeros(3))->np.array:\n",
    "    \"\"\"Args:\n",
    "    n,int: number of samples by default n=None ie a single sample\n",
    "    cov,np.array: covariance matrix by default cov=np.identity(3)\n",
    "    mean: mean value vector by default mean=np.zeros(3)\n",
    "\n",
    "    returns n samples of the \n",
    "    \"\"\"\n",
    "    return np.random.multivariate_normal(mean,cov,n)"
   ]
  },
  {
   "cell_type": "code",
   "execution_count": 34,
   "metadata": {},
   "outputs": [
    {
     "name": "stdout",
     "output_type": "stream",
     "text": [
      "[[1. 0. 0.]\n",
      " [0. 1. 0.]\n",
      " [0. 0. 1.]]\n",
      "[[-1.52069221 -0.93345618  1.30042786]\n",
      " [ 0.2681583  -0.53577086  1.86046811]\n",
      " [-0.41720719 -0.10443379 -0.1360053 ]]\n"
     ]
    }
   ],
   "source": [
    "print(X(n=3))"
   ]
  }
 ],
 "metadata": {
  "kernelspec": {
   "display_name": "Python 3",
   "language": "python",
   "name": "python3"
  },
  "language_info": {
   "codemirror_mode": {
    "name": "ipython",
    "version": 3
   },
   "file_extension": ".py",
   "mimetype": "text/x-python",
   "name": "python",
   "nbconvert_exporter": "python",
   "pygments_lexer": "ipython3",
   "version": "3.11.6"
  }
 },
 "nbformat": 4,
 "nbformat_minor": 2
}
