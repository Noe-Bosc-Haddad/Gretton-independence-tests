{
 "cells": [
  {
   "cell_type": "markdown",
   "metadata": {},
   "source": [
    "# COCO implementation test\n",
    "\n",
    "This notebook is an implementation of the constrained covariance from [Kernel Constrained Covariance for Dependence Measurement, A.Gretton et al.,2005](https://proceedings.mlr.press/r5/gretton05a/gretton05a.pdf)"
   ]
  },
  {
   "cell_type": "markdown",
   "metadata": {},
   "source": [
    "### Generating some random variables"
   ]
  },
  {
   "cell_type": "code",
   "execution_count": 1,
   "metadata": {},
   "outputs": [],
   "source": [
    "import numpy as np"
   ]
  },
  {
   "cell_type": "code",
   "execution_count": 36,
   "metadata": {},
   "outputs": [],
   "source": [
    "def X(n:int=None,cov: np.array=np.identity(3),mean: np.array = np.zeros(3))->np.array:\n",
    "    \"\"\"Args:\n",
    "    n,int: number of samples by default n=None ie a single sample\n",
    "    cov,np.array: covariance matrix by default cov=np.identity(3)\n",
    "    mean: mean value vector by default mean=np.zeros(3)\n",
    "\n",
    "    returns n samples of the \n",
    "    \"\"\"\n",
    "    return np.random.multivariate_normal(mean,cov,n)"
   ]
  },
  {
   "cell_type": "code",
   "execution_count": 38,
   "metadata": {},
   "outputs": [
    {
     "name": "stdout",
     "output_type": "stream",
     "text": [
      "[-1.35713527 -0.82083418 -0.30300738]\n"
     ]
    }
   ],
   "source": [
    "print(X())"
   ]
  },
  {
   "cell_type": "code",
   "execution_count": null,
   "metadata": {},
   "outputs": [],
   "source": []
  },
  {
   "cell_type": "markdown",
   "metadata": {},
   "source": [
    "### Implementing COCO\n",
    "\n",
    "We know from (2.3) in the article that: $$COCO_{emp}(z,F,G)=\\frac{1}{n}\\sqrt{{\\lVert \\bar{K}^j\\bar{K}^g \\rVert}_2}$$\n",
    "\n",
    "With $\\bar{K}^f$ the matrix obtained via the projection $ \\bar{K}^f  =  PK^fP$ with the projection operator $ P_{ij} = {\\delta}_{ij}  - \\frac{1}{n}$ and Gram matrix ${K^{f}}_{ij} =k_f(x_i,x_j)$. $\\; \\bar{K}^g$ is defined analogously."
   ]
  },
  {
   "cell_type": "code",
   "execution_count": 42,
   "metadata": {},
   "outputs": [],
   "source": [
    "def map_projection_op(i:int,j:int,n:int)-> float:\n",
    "    \"\"\"This function gives the value of Projector operator matrix coefficients\n",
    "    Args:\n",
    "        i : line number\n",
    "        j : row number\n",
    "        n : number of samples\n",
    "    Returns:\n",
    "        P_ij\n",
    "    \"\"\"\n",
    "    if i==j:\n",
    "        return 1-1/n\n",
    "    else:\n",
    "        return -1/n \n",
    "    \n",
    "def map_kernel_gram(i:int,j:int,x:np.array,k:callable) -> float:\n",
    "    \"\"\"This function gives the value of the Gram matrix coefficients\n",
    "    Args:\n",
    "        i : line number\n",
    "        j : row number\n",
    "        x : samples vector\n",
    "        k : kernel\n",
    "    Returns:\n",
    "        K_ij\n",
    "    \"\"\"\n",
    "    return k(x[i],x[j])\n",
    "\n",
    "\n",
    "def COCO(Kf:callable,Kg:callable,x:np.array)->float:\n",
    "    \"\"\"\n",
    "    \"\"\"\n",
    "    n= len(x)\n",
    "    Kf_gram = np.array([[( map_kernel_gram(i,j,x,Kf) for i in range(n))] for j in range(n)])\n",
    "    Kg_gram = np.array([[( map_kernel_gram(i,j,x,Kg) for i in range(n))] for j in range(n)])\n",
    "    P = np.array([[( map_projection_op(i,j,n) for i in range(n))] for j in range(n)])\n",
    "    Kf_bar = np.matmul(P,np.matmul(Kf_gram,P))\n",
    "    Kg_bar = np.matmul(P,np.matmul(Kg_gram,P))\n",
    "\n",
    "    return np.sqrt(np.linalg.norm(np.matmul(Kf_bar,Kg_bar),2))/n\n",
    "    "
   ]
  }
 ],
 "metadata": {
  "kernelspec": {
   "display_name": "Python 3",
   "language": "python",
   "name": "python3"
  },
  "language_info": {
   "codemirror_mode": {
    "name": "ipython",
    "version": 3
   },
   "file_extension": ".py",
   "mimetype": "text/x-python",
   "name": "python",
   "nbconvert_exporter": "python",
   "pygments_lexer": "ipython3",
   "version": "3.11.6"
  }
 },
 "nbformat": 4,
 "nbformat_minor": 2
}
